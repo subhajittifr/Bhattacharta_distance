{
 "cells": [
  {
   "cell_type": "code",
   "execution_count": 1,
   "id": "c47b6c6f",
   "metadata": {},
   "outputs": [],
   "source": [
    "import  numpy as np\n",
    "import matplotlib.pyplot as plt\n",
    "from numpy.linalg import inv, det\n",
    "from distance import bhatt_dis_gen, maha_dis\n",
    "from scipy.stats import skewnorm\n",
    "import pickle"
   ]
  },
  {
   "cell_type": "code",
   "execution_count": 2,
   "id": "c6a51a86",
   "metadata": {},
   "outputs": [],
   "source": [
    "npts=int(5e6)"
   ]
  },
  {
   "cell_type": "code",
   "execution_count": 3,
   "id": "5dbe6c43",
   "metadata": {},
   "outputs": [],
   "source": [
    "mean=np.array([[-14,3],[-14.0001,3.00001]])\n",
    "cov1 = np.array([[2, 1], [1, 3]])\n",
    "cov2 = np.array([[3, 1.5], [1.5, 1]])"
   ]
  },
  {
   "cell_type": "code",
   "execution_count": 4,
   "id": "1d0c8238",
   "metadata": {},
   "outputs": [],
   "source": [
    "a1, g1 = np.random.multivariate_normal(mean[0], cov1, npts).T\n",
    "    \n",
    "a2, g2 = np.random.multivariate_normal(mean[1], cov2, npts).T"
   ]
  },
  {
   "cell_type": "code",
   "execution_count": 5,
   "id": "9ca9499a",
   "metadata": {},
   "outputs": [],
   "source": [
    "def get_noisy(X):\n",
    "    return (X+ skewnorm.rvs(np.random.randint(5, 9), size=npts))"
   ]
  },
  {
   "cell_type": "code",
   "execution_count": 6,
   "id": "18f04fc7",
   "metadata": {},
   "outputs": [],
   "source": [
    "A1,gamma1,A2,gamma2=[get_noisy(arr) for arr in [a1,g1,a2,g2]]"
   ]
  },
  {
   "cell_type": "code",
   "execution_count": 8,
   "id": "5bb7ecce",
   "metadata": {},
   "outputs": [],
   "source": [
    "arr=[A1,gamma1,A2,gamma2]\n",
    "bigarr=[[],[],[],[]]\n",
    "for i in range(4):\n",
    "    bigarr[i].append(arr[i])"
   ]
  },
  {
   "cell_type": "code",
   "execution_count": 9,
   "id": "17e85ca0",
   "metadata": {},
   "outputs": [],
   "source": [
    "arr_pure=[a1,g1,a2,g2]\n",
    "bigarr_pure=[[],[],[],[]]\n",
    "for i in range(4):\n",
    "    bigarr_pure[i].append(arr_pure[i])"
   ]
  },
  {
   "cell_type": "code",
   "execution_count": 10,
   "id": "6942a91b",
   "metadata": {},
   "outputs": [],
   "source": [
    "import pickle\n",
    "\n",
    "file1 = open('data.pkl', 'ab')\n",
    "file2 = open('data_pure.pkl', 'ab')\n",
    "\n",
    "pickle.dump(bigarr,file1)\n",
    "pickle.dump(bigarr_pure,file2)\n",
    "\n",
    "file1.close()\n",
    "file2.close()\n"
   ]
  }
 ],
 "metadata": {
  "kernelspec": {
   "display_name": "Python 3",
   "language": "python",
   "name": "python3"
  },
  "language_info": {
   "codemirror_mode": {
    "name": "ipython",
    "version": 3
   },
   "file_extension": ".py",
   "mimetype": "text/x-python",
   "name": "python",
   "nbconvert_exporter": "python",
   "pygments_lexer": "ipython3",
   "version": "3.8.11"
  }
 },
 "nbformat": 4,
 "nbformat_minor": 5
}
